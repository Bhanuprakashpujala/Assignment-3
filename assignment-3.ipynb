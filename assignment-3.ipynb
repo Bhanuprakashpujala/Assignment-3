{
 "cells": [
  {
   "cell_type": "code",
   "execution_count": 6,
   "id": "cdcbc5b0",
   "metadata": {},
   "outputs": [
    {
     "name": "stdout",
     "output_type": "stream",
     "text": [
      "0\n",
      "1\n",
      "2\n",
      "4\n",
      "5\n"
     ]
    }
   ],
   "source": [
    "# 1) Write a Python program that prints all the numbers from  0 to 6 except 3 and 6\n",
    "# for loop\n",
    "for i in range(0,6):\n",
    "    if i==3:\n",
    "        continue;\n",
    "    print(i)"
   ]
  },
  {
   "cell_type": "code",
   "execution_count": 2,
   "id": "06abc439",
   "metadata": {},
   "outputs": [
    {
     "name": "stdout",
     "output_type": "stream",
     "text": [
      "0\n",
      "1\n",
      "2\n",
      "4\n",
      "5\n"
     ]
    }
   ],
   "source": [
    "# while loop\n",
    "a=-1\n",
    "while a<6:\n",
    "    a+=1\n",
    "    if a==3 or a==6:\n",
    "        continue;\n",
    "    print(a)"
   ]
  },
  {
   "cell_type": "code",
   "execution_count": 7,
   "id": "102389cb",
   "metadata": {},
   "outputs": [
    {
     "name": "stdout",
     "output_type": "stream",
     "text": [
      "enter a number 5\n"
     ]
    },
    {
     "data": {
      "text/plain": [
       "15"
      ]
     },
     "execution_count": 7,
     "metadata": {},
     "output_type": "execute_result"
    }
   ],
   "source": [
    "#2) Write a program to accept a number from a user and  calculate the sum of all numbers from 1 to a given number\n",
    "# for loop\n",
    "a=int(input(\"enter a number \"))\n",
    "for i in range(1,a):\n",
    "    a+=i\n",
    "a"
   ]
  },
  {
   "cell_type": "code",
   "execution_count": 8,
   "id": "ca454df1",
   "metadata": {},
   "outputs": [
    {
     "name": "stdout",
     "output_type": "stream",
     "text": [
      "enter a number 5\n"
     ]
    },
    {
     "data": {
      "text/plain": [
       "15"
      ]
     },
     "execution_count": 8,
     "metadata": {},
     "output_type": "execute_result"
    }
   ],
   "source": [
    "# while loop\n",
    "a=int(input(\"enter a number \"))\n",
    "c=a\n",
    "b=0\n",
    "while b<(a-1):\n",
    "    b+=1\n",
    "    c+=b\n",
    "c"
   ]
  },
  {
   "cell_type": "code",
   "execution_count": 9,
   "id": "de6b5c51",
   "metadata": {},
   "outputs": [
    {
     "name": "stdout",
     "output_type": "stream",
     "text": [
      "eneter a number 5\n",
      "enter the rage 10\n",
      "5 x 1 = 5\n",
      "5 x 2 = 10\n",
      "5 x 3 = 15\n",
      "5 x 4 = 20\n",
      "5 x 5 = 25\n",
      "5 x 6 = 30\n",
      "5 x 7 = 35\n",
      "5 x 8 = 40\n",
      "5 x 9 = 45\n",
      "5 x 10 = 50\n"
     ]
    }
   ],
   "source": [
    "# 3) Write a program to print multiplication table of a given  number(input)\n",
    "#for loop\n",
    "a=int(input(\"eneter a number \"))\n",
    "b=int(input(\"enter the rage \"))\n",
    "for i in range(1,b+1):\n",
    "    print(f\"{a} x {i} = {a*i}\")\n"
   ]
  },
  {
   "cell_type": "code",
   "execution_count": 12,
   "id": "5839f7f4",
   "metadata": {},
   "outputs": [
    {
     "name": "stdout",
     "output_type": "stream",
     "text": [
      "eneter a number 5\n",
      "enter the rage 10\n",
      "5 x 1 = 5\n",
      "5 x 2 = 10\n",
      "5 x 3 = 15\n",
      "5 x 4 = 20\n",
      "5 x 5 = 25\n",
      "5 x 6 = 30\n",
      "5 x 7 = 35\n",
      "5 x 8 = 40\n",
      "5 x 9 = 45\n",
      "5 x 10 = 50\n"
     ]
    }
   ],
   "source": [
    "# while loop\n",
    "a=int(input(\"eneter a number \"))\n",
    "b=int(input(\"enter the rage \"))\n",
    "i=1\n",
    "while i<b+1:\n",
    "    print(f\"{a} x {i} = {a*i}\")\n",
    "    i+=1 "
   ]
  },
  {
   "cell_type": "code",
   "execution_count": 6,
   "id": "f83e2d91",
   "metadata": {},
   "outputs": [
    {
     "name": "stdout",
     "output_type": "stream",
     "text": [
      "enter anythingkjdsfjv123456\n",
      "total no of digits is  6\n"
     ]
    }
   ],
   "source": [
    "# 4) Write a program to count the total number of digits in a  number using a while loop.\n",
    "# For example, the number is 75869, so the output should be 5\n",
    "#for loop\n",
    "a=input(\"enter anything\")\n",
    "c=[]\n",
    "for i in a:\n",
    "    if i.isdigit():\n",
    "        c.append(i)\n",
    "print(\"total no of digits is \",len(c))"
   ]
  },
  {
   "cell_type": "code",
   "execution_count": 9,
   "id": "5271322e",
   "metadata": {},
   "outputs": [
    {
     "name": "stdout",
     "output_type": "stream",
     "text": [
      "enter anythingjhifdnvbjd123456789\n",
      "total no of digits is  9\n"
     ]
    }
   ],
   "source": [
    "#while loop\n",
    "a=input(\"enter anything\")\n",
    "b=[]\n",
    "c=0\n",
    "while c<len(a):\n",
    "    for i in a:\n",
    "        if i.isdigit():\n",
    "            b.append(i)\n",
    "        c+=1\n",
    "print(\"total no of digits is \",len(b))"
   ]
  },
  {
   "cell_type": "code",
   "execution_count": 7,
   "id": "d32e7ab1",
   "metadata": {},
   "outputs": [
    {
     "name": "stdout",
     "output_type": "stream",
     "text": [
      "enter the number : 5\n",
      "guess untill u succeed\n",
      "enter the number : 7\n",
      "guess untill u succeed\n",
      "enter the number : 3\n",
      "Well guessed!\n"
     ]
    }
   ],
   "source": [
    "# 5) Write a Python program to guess a number between 1 to \n",
    "#Example:\n",
    "#User is prompted to enter a guess. If the user guesses wrong \n",
    "#then the prompt appears again until the guess is correct, on \n",
    "#successful guess, user will get a \"Well guessed!\" message, \n",
    "# and the program will exit.\n",
    "# for loop\n",
    "import random\n",
    "r=random.randrange(1,10)\n",
    "for i in range(1,10):                                    # using the range 10 \n",
    "    guess=int(input(\"enter the number : \"))\n",
    "    if r==guess:\n",
    "        print(\"Well guessed!\")\n",
    "        break;\n",
    "    else:\n",
    "        print(\"guess untill u succeed\") "
   ]
  },
  {
   "cell_type": "code",
   "execution_count": 8,
   "id": "7f928063",
   "metadata": {},
   "outputs": [
    {
     "name": "stdout",
     "output_type": "stream",
     "text": [
      "enter the number : 5\n",
      "guess untill u succeed\n",
      "enter the number : 8\n",
      "Well guessed!\n"
     ]
    }
   ],
   "source": [
    "# while loop\n",
    "import random\n",
    "r=random.randrange(1,10)\n",
    "i=0                                                            #  using the range 10 \n",
    "while i<10:\n",
    "    guess=int(input(\"enter the number : \"))\n",
    "    if r==guess:\n",
    "        print(\"Well guessed!\")\n",
    "        break;\n",
    "    else:\n",
    "        print(\"guess untill u succeed\")"
   ]
  },
  {
   "cell_type": "code",
   "execution_count": 10,
   "id": "c73f747f",
   "metadata": {},
   "outputs": [
    {
     "name": "stdout",
     "output_type": "stream",
     "text": [
      "1\n",
      "2\n",
      "Fizz\n",
      "4\n",
      "Buzz\n",
      "Fizz\n",
      "7\n",
      "8\n",
      "Fizz\n",
      "Buzz\n",
      "11\n",
      "Fizz\n",
      "13\n",
      "14\n",
      "Fizz\n",
      "16\n",
      "17\n",
      "Fizz\n",
      "19\n",
      "Buzz\n",
      "Fizz\n",
      "22\n",
      "23\n",
      "Fizz\n",
      "Buzz\n",
      "26\n",
      "Fizz\n",
      "28\n",
      "29\n",
      "Fizz\n",
      "31\n",
      "32\n",
      "Fizz\n",
      "34\n",
      "Buzz\n",
      "Fizz\n",
      "37\n",
      "38\n",
      "Fizz\n",
      "Buzz\n",
      "41\n",
      "Fizz\n",
      "43\n",
      "44\n",
      "Fizz\n",
      "46\n",
      "47\n",
      "Fizz\n",
      "49\n",
      "Buzz\n",
      "Fizz\n",
      "52\n",
      "53\n",
      "Fizz\n",
      "Buzz\n",
      "56\n",
      "Fizz\n",
      "58\n",
      "59\n",
      "Fizz\n"
     ]
    }
   ],
   "source": [
    "# 6) Write a Python program which iterates the integers from 1 \n",
    "#to 60. For multiples of three print \"Fizz\" instead of the number and for the multiples of five print \"Buzz\". For \n",
    "#numbers which are multiples of both three and five print \n",
    "#\"FizzBuzz\".\n",
    "# for loop\n",
    "for i in range(1,61):\n",
    "    if i%3==0:\n",
    "        print(\"Fizz\")\n",
    "    elif i%5==0:\n",
    "        print(\"Buzz\")\n",
    "    elif i%3==0 and i%5==0:\n",
    "        print(\"FizzBuzz\")\n",
    "    else:\n",
    "        print(i)\n"
   ]
  },
  {
   "cell_type": "code",
   "execution_count": 11,
   "id": "ecbb09c5",
   "metadata": {},
   "outputs": [
    {
     "name": "stdout",
     "output_type": "stream",
     "text": [
      "1\n",
      "2\n",
      "Fizz\n",
      "4\n",
      "Buzz\n",
      "Fizz\n",
      "7\n",
      "8\n",
      "Fizz\n",
      "Buzz\n",
      "11\n",
      "Fizz\n",
      "13\n",
      "14\n",
      "Fizz\n",
      "16\n",
      "17\n",
      "Fizz\n",
      "19\n",
      "Buzz\n",
      "Fizz\n",
      "22\n",
      "23\n",
      "Fizz\n",
      "Buzz\n",
      "26\n",
      "Fizz\n",
      "28\n",
      "29\n",
      "Fizz\n",
      "31\n",
      "32\n",
      "Fizz\n",
      "34\n",
      "Buzz\n",
      "Fizz\n",
      "37\n",
      "38\n",
      "Fizz\n",
      "Buzz\n",
      "41\n",
      "Fizz\n",
      "43\n",
      "44\n",
      "Fizz\n",
      "46\n",
      "47\n",
      "Fizz\n",
      "49\n",
      "Buzz\n",
      "Fizz\n",
      "52\n",
      "53\n",
      "Fizz\n",
      "Buzz\n",
      "56\n",
      "Fizz\n",
      "58\n",
      "59\n"
     ]
    }
   ],
   "source": [
    "# while loop\n",
    "i=1\n",
    "while i<60:\n",
    "    if i%3==0:\n",
    "        print(\"Fizz\")\n",
    "    elif i%5==0:\n",
    "        print(\"Buzz\")\n",
    "    elif i%3==0 and i%5==0:\n",
    "        print(\"FizzBuzz\")\n",
    "    else:\n",
    "        print(i)\n",
    "    i+=1"
   ]
  },
  {
   "cell_type": "code",
   "execution_count": 19,
   "id": "6051ce19",
   "metadata": {},
   "outputs": [
    {
     "name": "stdout",
     "output_type": "stream",
     "text": [
      "eneter a string bjsdhbclhb1425569987\n",
      "letters  10\n",
      "digits  10\n"
     ]
    }
   ],
   "source": [
    "# 7) Write a Python program that accepts a string and calculate the number of digits and letters\n",
    "#Example:\n",
    "#Input\n",
    "#Python 3.2 \n",
    "#Output\n",
    "#Letters 6\n",
    "#Digits 2\n",
    "#for loop\n",
    "a=input(\"eneter a string \")\n",
    "b=[]\n",
    "c=[]\n",
    "for i in a:\n",
    "    if i.isalpha():\n",
    "        b.append(i)\n",
    "    else:\n",
    "        c.append(i)\n",
    "print(\"letters \",len(b))\n",
    "print(\"digits \",len(c))\n"
   ]
  },
  {
   "cell_type": "code",
   "execution_count": 20,
   "id": "c8734d39",
   "metadata": {},
   "outputs": [
    {
     "name": "stdout",
     "output_type": "stream",
     "text": [
      "eneter a string svbdljsdhbvjhbvj1515154515\n",
      "letters  16\n",
      "digits  10\n"
     ]
    }
   ],
   "source": [
    "#while loop\n",
    "a=input(\"eneter a string \")\n",
    "b=[]\n",
    "c=[]\n",
    "d=0\n",
    "while d<len(a):\n",
    "    for i in a:\n",
    "        if i.isalpha():\n",
    "            b.append(i)\n",
    "        else:\n",
    "            c.append(i)\n",
    "        d+=1\n",
    "print(\"letters \",len(b))\n",
    "print(\"digits \",len(c))"
   ]
  },
  {
   "cell_type": "code",
   "execution_count": 5,
   "id": "0e58a0d5",
   "metadata": {},
   "outputs": [
    {
     "name": "stdout",
     "output_type": "stream",
     "text": [
      "enter password  Bhanu@123\n",
      "OK\n",
      "You have given valid Password.\n"
     ]
    }
   ],
   "source": [
    "# 8) Write a Python program to check the validity of password input by users.Validation:\n",
    "#At least 1 letter between [a-z] and 1 letter between [A-Z]. \n",
    "#At least 1 number between [0-9]. \n",
    "#At least 1 character from [$#@].\n",
    "#Minimum length 6 characters.\n",
    "#Maximum length 16 characters.\n",
    "password=input(\"enter password  \")\n",
    "lowalpha=0\n",
    "upalpha=0\n",
    "num=0\n",
    "sym=0\n",
    "symbol=[\"@\",\"$\",\"#\"]\n",
    "for elements in password:\n",
    "    if elements.isalpha():\n",
    "        if elements==elements.upper():\n",
    "            upalpha+=1\n",
    "        elif elements==elements.lower():\n",
    "            lowalpha+=1\n",
    "    elif elements in symbol:\n",
    "        sym+=1\n",
    "    elif int(elements) in range(0,10):\n",
    "        num+=1\n",
    "if len(password)<6:\n",
    "    print(\"Your Password must contain atleast 6 charecters\")\n",
    "elif len(password)>16:\n",
    "    print(\"Your Password length is greater than limits, Please reduce some charecters\")\n",
    "elif num==0:\n",
    "    print(\"Please include numbers inside your password\")\n",
    "elif upalpha==0:\n",
    "    print(\"Please include upperr case letters inside your password\")\n",
    "elif lowalpha==0:\n",
    "    print(\"Please include lower case letters inside your password\")\n",
    "elif sym==0:\n",
    "    print(\"Please include special symbols inside your password\")\n",
    "else:\n",
    "    print(\"OK\\nYou have given valid Password.\")\n"
   ]
  },
  {
   "cell_type": "code",
   "execution_count": 5,
   "id": "1b3915bc",
   "metadata": {},
   "outputs": [
    {
     "name": "stdout",
     "output_type": "stream",
     "text": [
      "enter a word bhanu\n"
     ]
    },
    {
     "data": {
      "text/plain": [
       "'unahb'"
      ]
     },
     "execution_count": 5,
     "metadata": {},
     "output_type": "execute_result"
    }
   ],
   "source": [
    "# 9) Write a program in Python to reverse a word by using while loop\n",
    "# for loop\n",
    "a=input(\"enter a word \")\n",
    "b=[]\n",
    "for i in range(0,len(a)):\n",
    "    b.append(a[i])\n",
    "\"\".join(b[::-1])\n"
   ]
  },
  {
   "cell_type": "code",
   "execution_count": 1,
   "id": "c5e94c2e",
   "metadata": {},
   "outputs": [
    {
     "name": "stdout",
     "output_type": "stream",
     "text": [
      "enter a number 1\n",
      "enter a number 2\n",
      "enter a number 3\n",
      "enter a number 4\n",
      "enter a number 5\n",
      "enter a number 6\n",
      "enter a number 7\n",
      "enter a number 8\n",
      "enter a number 9\n",
      "enter a number 10\n",
      "the average of given values is  5.5\n"
     ]
    }
   ],
   "source": [
    "# 10) Write a program which takes 10 integers as input using loop and print their average value on the screen\n",
    "# for loop\n",
    "b=[]\n",
    "for i in range(0,10):\n",
    "    a=int(input(\"enter a number \"))\n",
    "    b.append(a)\n",
    "print(\"the average of given values is \",(sum(b)/len(b)))"
   ]
  },
  {
   "cell_type": "code",
   "execution_count": 2,
   "id": "66f44a37",
   "metadata": {},
   "outputs": [
    {
     "name": "stdout",
     "output_type": "stream",
     "text": [
      "enter a number 1\n",
      "enter a number 2\n",
      "enter a number 3\n",
      "enter a number 4\n",
      "enter a number 5\n",
      "enter a number 6\n",
      "enter a number 7\n",
      "enter a number 8\n",
      "enter a number 9\n",
      "enter a number 10\n",
      "the average of the given numbers is  5.5\n"
     ]
    }
   ],
   "source": [
    "# while loop\n",
    "b=[]\n",
    "c=1\n",
    "while c<=10:\n",
    "    c+=1\n",
    "    a=int(input(\"enter a number \"))\n",
    "    b.append(a)\n",
    "print(\"the average of the given numbers is \",sum(b)/len(b))"
   ]
  },
  {
   "cell_type": "code",
   "execution_count": 3,
   "id": "5267d998",
   "metadata": {},
   "outputs": [
    {
     "name": "stdout",
     "output_type": "stream",
     "text": [
      "enter a number  :5\n",
      " do you want to close then press q or to continue press anythiing \n",
      "enter a number  :5\n",
      " do you want to close then press q or to continue press anythiing q\n",
      "the product of the numbers is 25\n",
      "the sum of the numbers is 10\n"
     ]
    }
   ],
   "source": [
    "# 11) Write a program which takes integer inputs from user until he/she presses “q” (Ask to press q to quit after every integer \n",
    "#input). Print average and product of all numbers.\n",
    "num=[]\n",
    "prod=1\n",
    "while True:\n",
    "    a=int(input(\"enter a number  :\"))\n",
    "    num.append(a)\n",
    "    prod*=a\n",
    "    b=input(\" do you want to close then press q or to continue press anythiing \")\n",
    "    if b==\"q\":\n",
    "        break;\n",
    "print(\"the product of the numbers is\",prod)\n",
    "print(\"the sum of the numbers is\", sum(num))"
   ]
  },
  {
   "cell_type": "code",
   "execution_count": 27,
   "id": "a7c18226",
   "metadata": {},
   "outputs": [
    {
     "name": "stdout",
     "output_type": "stream",
     "text": [
      "eneter anything bshsnd@#$(.14455\n"
     ]
    },
    {
     "data": {
      "text/plain": [
       "'bshsnd'"
      ]
     },
     "execution_count": 27,
     "metadata": {},
     "output_type": "execute_result"
    }
   ],
   "source": [
    "# 12) Write a Python program which will remove all digits or any other characters from the string except alphabets\n",
    "#Example:\n",
    "#Input:\n",
    "#“asd12.asd22”\n",
    "#Output:\n",
    "#'asdasd'\n",
    "# for loop\n",
    "a=input(\"eneter anything \")\n",
    "b=\"\"\n",
    "for i in a:\n",
    "    if i.isalpha():\n",
    "        b+=i\n",
    "b"
   ]
  },
  {
   "cell_type": "code",
   "execution_count": 31,
   "id": "51aee206",
   "metadata": {},
   "outputs": [
    {
     "name": "stdout",
     "output_type": "stream",
     "text": [
      "eneter anything sdhvblsdhvbksv@#$%^245436546\n"
     ]
    },
    {
     "data": {
      "text/plain": [
       "'sdhvblsdhvbksv'"
      ]
     },
     "execution_count": 31,
     "metadata": {},
     "output_type": "execute_result"
    }
   ],
   "source": [
    "# while loop\n",
    "a=input(\"eneter anything \")\n",
    "c=\"\"\n",
    "b=0\n",
    "while b<len(a):\n",
    "    for i in a:\n",
    "        if i.isalpha():\n",
    "            c+=i\n",
    "        b+=1\n",
    "c  "
   ]
  },
  {
   "cell_type": "code",
   "execution_count": 25,
   "id": "4787d015",
   "metadata": {},
   "outputs": [
    {
     "data": {
      "text/plain": [
       "20"
      ]
     },
     "execution_count": 25,
     "metadata": {},
     "output_type": "execute_result"
    }
   ],
   "source": [
    "#13) Write a python program to find the sum of all even  numbers from 0 to 10\n",
    "# for loop\n",
    "a=0\n",
    "for i in range(0,10):\n",
    "    if i%2==0:\n",
    "        a+=i\n",
    "a\n",
    "\n"
   ]
  },
  {
   "cell_type": "code",
   "execution_count": 26,
   "id": "3f2e8f49",
   "metadata": {},
   "outputs": [
    {
     "data": {
      "text/plain": [
       "20"
      ]
     },
     "execution_count": 26,
     "metadata": {},
     "output_type": "execute_result"
    }
   ],
   "source": [
    "# while loop\n",
    "a=0\n",
    "b=0\n",
    "while a<10:\n",
    "    if a%2==0:\n",
    "        b+=a\n",
    "    a+=1\n",
    "b"
   ]
  },
  {
   "cell_type": "code",
   "execution_count": 5,
   "id": "e932bbe6",
   "metadata": {},
   "outputs": [
    {
     "name": "stdout",
     "output_type": "stream",
     "text": [
      "enter a number 5\n",
      "4\n",
      "3\n",
      "2\n",
      "1\n",
      "0\n"
     ]
    }
   ],
   "source": [
    "#14) Write a python program which will accept a digit and print All the numbers before it till 0\n",
    "#Example:\n",
    "#Input: \n",
    "#5\n",
    "#Output:\n",
    "#4\n",
    "#3\n",
    "#2\n",
    "#1\n",
    "#0\n",
    "# whileloop\n",
    "a=int(input(\"enter a number \"))\n",
    "c=0\n",
    "while a>c:\n",
    "    a-=1 \n",
    "    print(a)\n",
    " \n"
   ]
  },
  {
   "cell_type": "code",
   "execution_count": 4,
   "id": "886f70d1",
   "metadata": {},
   "outputs": [
    {
     "name": "stdout",
     "output_type": "stream",
     "text": [
      "enter a number 5\n",
      "4\n",
      "3\n",
      "2\n",
      "1\n",
      "0\n"
     ]
    }
   ],
   "source": [
    "# for loop\n",
    "a=int(input(\"enter a number \"))\n",
    "b=[]\n",
    "for i in range(0,a):\n",
    "    b.append(i)\n",
    "c=b[::-1]\n",
    "print(*c ,sep=\"\\n\")\n"
   ]
  },
  {
   "cell_type": "code",
   "execution_count": 32,
   "id": "884e82e7",
   "metadata": {},
   "outputs": [
    {
     "name": "stdout",
     "output_type": "stream",
     "text": [
      "eneter first value :2\n",
      "enter second value :5\n",
      "plese provide a sign to perform on the numbers+\n",
      "The addition of two numbers is : 7\n",
      "do you want continue \n",
      "eneter first value :5\n",
      "enter second value :8\n",
      "plese provide a sign to perform on the numbers*\n",
      "do you want continue c\n"
     ]
    }
   ],
   "source": [
    "# 15) Create a dynamic calculator which will run continually till  you press “c”\n",
    "while True:\n",
    "    a=int(input(\"eneter first value :\"))\n",
    "    b=int(input(\"enter second value :\"))\n",
    "    c=input(\"plese provide a sign to perform on the numbers\")\n",
    "    if c==\"+\":\n",
    "        print(\"The addition of two numbers is :\",a+b)\n",
    "    elif c==\"-\":\n",
    "        print(\"the substraction of two numbers is :\",a-b)\n",
    "    elif c==\"\":\n",
    "        print(\"the product of two numbers is :\",ab)\n",
    "    elif c==\"%\":\n",
    "        print(\"the division of two numbers is\",a%b)\n",
    "    elif c==\"//\":\n",
    "        print(\"the floor division of two numbers is \",a//b)\n",
    "    d=input(\"do you want continue \")\n",
    "    e=d.lower()\n",
    "    if e==\"c\":\n",
    "        break"
   ]
  },
  {
   "cell_type": "code",
   "execution_count": null,
   "id": "44198946",
   "metadata": {},
   "outputs": [],
   "source": []
  },
  {
   "cell_type": "code",
   "execution_count": null,
   "id": "2b8982ec",
   "metadata": {},
   "outputs": [],
   "source": []
  },
  {
   "cell_type": "code",
   "execution_count": null,
   "id": "60429146",
   "metadata": {},
   "outputs": [],
   "source": []
  }
 ],
 "metadata": {
  "kernelspec": {
   "display_name": "Python 3 (ipykernel)",
   "language": "python",
   "name": "python3"
  },
  "language_info": {
   "codemirror_mode": {
    "name": "ipython",
    "version": 3
   },
   "file_extension": ".py",
   "mimetype": "text/x-python",
   "name": "python",
   "nbconvert_exporter": "python",
   "pygments_lexer": "ipython3",
   "version": "3.9.13"
  }
 },
 "nbformat": 4,
 "nbformat_minor": 5
}
